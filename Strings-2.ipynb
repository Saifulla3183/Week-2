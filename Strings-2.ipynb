{
 "cells": [
  {
   "cell_type": "markdown",
   "id": "67947625-cd3c-4449-9024-406a1e299576",
   "metadata": {},
   "source": [
    "# Replacing a string with another string\n",
    "- here we replace a string with another string in python\n",
    "- Using a library function replace()\n",
    "# Syntax\n",
    "s.replace(oldstring,newstring)"
   ]
  },
  {
   "cell_type": "code",
   "execution_count": 1,
   "id": "ce76894a-bff5-4802-a4d1-b23f94e07cc8",
   "metadata": {},
   "outputs": [
    {
     "name": "stdout",
     "output_type": "stream",
     "text": [
      "Saifulla is a good boy\n"
     ]
    }
   ],
   "source": [
    "# Example\n",
    "s = \"Saifulla is a bad boy\"\n",
    "x = s.replace('bad','good')\n",
    "print(x)"
   ]
  },
  {
   "cell_type": "code",
   "execution_count": 3,
   "id": "2c1c7925-d7a8-449e-b979-a48838edff42",
   "metadata": {},
   "outputs": [
    {
     "name": "stdout",
     "output_type": "stream",
     "text": [
      "bbbbbbbbbbbbbbbbbbbbbbbbb\n"
     ]
    }
   ],
   "source": [
    "# Example 2\n",
    "#It can replace every occurence in the string\n",
    "s = 'ababbaabbbabbbbbbaaaababa'\n",
    "x = s.replace('a','b')\n",
    "print(x)"
   ]
  },
  {
   "cell_type": "code",
   "execution_count": 6,
   "id": "184bf9a6-a499-48af-883e-106fc39257e3",
   "metadata": {},
   "outputs": [
    {
     "name": "stdout",
     "output_type": "stream",
     "text": [
      "Python is difficult but Java is difficult\n"
     ]
    }
   ],
   "source": [
    "# How can we replace the string 'difficult' with 'easy' and 'easy' with 'difficult‘? \n",
    "s = 'Python is easy but Java is difficult' \n",
    "s = s.replace('difficult','easy') \n",
    "s = s.replace('easy','difficult')\n",
    "print(s) #here in these cases we cannot change the strings "
   ]
  },
  {
   "cell_type": "markdown",
   "id": "c02375bc-25da-485b-899f-b2f536c2e087",
   "metadata": {},
   "source": [
    "# Splitting of Strings\n",
    "There are 2 methods for splitting\n",
    "1. We can split the given string according to specified separator by using split() method.\n",
    "2. We can split the given string according to specified separator in reverse direction by using rsplit() method.\n",
    "# Syntax\n",
    "      l=s.split(seperator, Maximum splits) \n",
    "Here,  \n",
    "- Both parameters are optional \n",
    "- The default separator is space.  \n",
    "- Maximum split defines maximum number of splits \n",
    "- The return type of split() method is List. "
   ]
  },
  {
   "cell_type": "code",
   "execution_count": 9,
   "id": "78032802-4a5d-4142-b54c-f0e53d4ab288",
   "metadata": {},
   "outputs": [
    {
     "name": "stdout",
     "output_type": "stream",
     "text": [
      "22\n",
      "04\n",
      "2020\n"
     ]
    }
   ],
   "source": [
    "s=\"22-04-2020\" \n",
    "l=s.split('-') \n",
    "for x in l: \n",
    "    print(x)"
   ]
  },
  {
   "cell_type": "code",
   "execution_count": 10,
   "id": "b9b7419a-1bb2-4166-b2f5-b2679870abe8",
   "metadata": {},
   "outputs": [
    {
     "name": "stdout",
     "output_type": "stream",
     "text": [
      "SAIFULLA\n",
      "SOHAIL\n",
      "ROSHAN\n",
      "SADIK\n"
     ]
    }
   ],
   "source": [
    "s = \"SAIFULLA SOHAIL ROSHAN SADIK\"\n",
    "l=s.split()\n",
    "for x in l:\n",
    "    print(x)"
   ]
  },
  {
   "cell_type": "code",
   "execution_count": 12,
   "id": "67ab3587-e0d1-4d28-a5ac-2981b06e8cba",
   "metadata": {},
   "outputs": [
    {
     "name": "stdout",
     "output_type": "stream",
     "text": [
      "saifulla sohail\n",
      "sadik\n",
      "nandyal\n",
      "india\n"
     ]
    }
   ],
   "source": [
    "# Example\n",
    "s = 'saifulla sohail sadik nandyal india' \n",
    "l=s.rsplit(' ',3)    \n",
    "for x in l:              # Did not understand the concept\n",
    "    print(x)"
   ]
  },
  {
   "cell_type": "code",
   "execution_count": 13,
   "id": "bc7e1b91-4a2e-40da-911d-60d33785c2ab",
   "metadata": {},
   "outputs": [
    {
     "name": "stdout",
     "output_type": "stream",
     "text": [
      "10\n",
      "20\n",
      "30\n",
      "40,50,60,70,80\n"
     ]
    }
   ],
   "source": [
    "# Example\n",
    "s = '10,20,30,40,50,60,70,80' \n",
    "l = s.split(',',3) \n",
    "for x in l: \n",
    "    print(x)"
   ]
  },
  {
   "cell_type": "code",
   "execution_count": 15,
   "id": "6fcd176b-ef09-4f03-8d16-4690d0ba6576",
   "metadata": {},
   "outputs": [
    {
     "name": "stdout",
     "output_type": "stream",
     "text": [
      "10,20,30,40,50\n",
      "60\n",
      "70\n",
      "80\n"
     ]
    }
   ],
   "source": [
    "#Example\n",
    "s = '10,20,30,40,50,60,70,80' \n",
    "l = s.rsplit(',',3)            #Did not understand\n",
    "for x in l: \n",
    "    print(x)"
   ]
  },
  {
   "cell_type": "markdown",
   "id": "ac59d381-f566-41b2-92b2-b79cc9c9ac7f",
   "metadata": {},
   "source": [
    "# Joining of Strings\n",
    "here we can join a group of strings(list or tuple) with respect to the given seperator\n",
    "# Syntax\n",
    "  s = seperator.join(group of strings)"
   ]
  },
  {
   "cell_type": "code",
   "execution_count": 16,
   "id": "8e1a99d6-4145-4940-b468-b0709b77d514",
   "metadata": {},
   "outputs": [
    {
     "name": "stdout",
     "output_type": "stream",
     "text": [
      "saif-asma-sohail\n"
     ]
    }
   ],
   "source": [
    "# Example\n",
    "s = ('saif','asma','sohail')\n",
    "r = '-'.join(s)\n",
    "print(r)"
   ]
  },
  {
   "cell_type": "code",
   "execution_count": 17,
   "id": "3e4281c8-2d61-4052-b315-093bc9506f27",
   "metadata": {},
   "outputs": [
    {
     "name": "stdout",
     "output_type": "stream",
     "text": [
      "saif:asma:sohail\n"
     ]
    }
   ],
   "source": [
    "# Example\n",
    "s = ('saif','asma','sohail')\n",
    "r = ':'.join(s)\n",
    "print(r)"
   ]
  },
  {
   "cell_type": "code",
   "execution_count": 18,
   "id": "b0429a80-9975-48a3-8759-4ea291a7b4ef",
   "metadata": {},
   "outputs": [
    {
     "name": "stdout",
     "output_type": "stream",
     "text": [
      "saifasmasohail\n"
     ]
    }
   ],
   "source": [
    "# Example\n",
    "s = ('saif','asma','sohail')\n",
    "r = ''.join(s)\n",
    "print(r)"
   ]
  },
  {
   "cell_type": "code",
   "execution_count": 19,
   "id": "7eceea38-c863-4596-b6fb-963e849895f7",
   "metadata": {},
   "outputs": [
    {
     "name": "stdout",
     "output_type": "stream",
     "text": [
      "saif   asma   sohail\n"
     ]
    }
   ],
   "source": [
    "# Example\n",
    "s = ('saif','asma','sohail')\n",
    "r = '   '.join(s)\n",
    "print(r)"
   ]
  },
  {
   "cell_type": "markdown",
   "id": "558ae651-4ccd-4e36-84dc-f6c68e07d9ab",
   "metadata": {},
   "source": [
    "# changing case of string\n",
    "here we can change case of a string by using the following methods\n",
    "1. upper()\n",
    "   To convert all characters to upper case\n",
    "2. lower()\n",
    "   To convert all characters to lower case\n",
    "3. swapcase()\n",
    "   It converts converts all lower case characters to upper case and all upper case characters to lower case\n",
    "4. title()\n",
    "   To convert all characters to title case. i.e., first character in every  word should be upper case and all remaining characters should be in lower case.\n",
    "5. capitalize()\n",
    "   Only first character will be converted to upper case and all remaining characters can be converted to lower case."
   ]
  },
  {
   "cell_type": "code",
   "execution_count": 20,
   "id": "a5a8fedb-dba6-4162-b6bc-973789440d3e",
   "metadata": {},
   "outputs": [
    {
     "name": "stdout",
     "output_type": "stream",
     "text": [
      "MY NAME IS SHAIK SAIFULLA\n",
      "my name is shaik saifulla\n",
      "MY NAME IS sHAIK sAIFULLA\n",
      "My Name Is Shaik Saifulla\n",
      "My name is shaik saifulla\n"
     ]
    }
   ],
   "source": [
    "s = 'my name is Shaik Saifulla'\n",
    "print(s.upper())   \n",
    "print(s.lower())   \n",
    "print(s.swapcase())  \n",
    "print(s.title())    \n",
    "print(s.capitalize()) "
   ]
  },
  {
   "cell_type": "code",
   "execution_count": 21,
   "id": "e84da0c5-77ae-4e73-854f-4e2356fa8381",
   "metadata": {},
   "outputs": [
    {
     "name": "stdout",
     "output_type": "stream",
     "text": [
      "learningpythonisveryeasy\n"
     ]
    }
   ],
   "source": [
    "s='Learning Python Is Very Easy' \n",
    "s = s.lower().replace(' ','') \n",
    "print(s)"
   ]
  },
  {
   "cell_type": "code",
   "execution_count": 22,
   "id": "d25c2fa8-5e06-418a-ad00-18a63664fe15",
   "metadata": {},
   "outputs": [
    {
     "name": "stdout",
     "output_type": "stream",
     "text": [
      "learningpythonisveryeasy\n"
     ]
    }
   ],
   "source": [
    "# Above example with join() & split() functions \n",
    "s='Learning Python Is Very Easy' \n",
    "s = s.lower() \n",
    "s1 = s.split() \n",
    "s = ''.join(s1) \n",
    "print(s) "
   ]
  },
  {
   "cell_type": "markdown",
   "id": "f413f08c-5e3f-4fdf-82d7-7f86f4235969",
   "metadata": {},
   "source": [
    "# Checking starting and ending part of the string\n",
    "In Python it contains the following methods for this purpose \n",
    "1. s.startswith(substring) \n",
    "2. s.endswith(substring)"
   ]
  },
  {
   "cell_type": "code",
   "execution_count": 23,
   "id": "264b8cd1-9744-40f5-ac38-d7fa625ec781",
   "metadata": {},
   "outputs": [
    {
     "name": "stdout",
     "output_type": "stream",
     "text": [
      "True\n",
      "False\n",
      "True\n"
     ]
    }
   ],
   "source": [
    "# Example\n",
    "s='learning Python is very easy' \n",
    "print(s.startswith('learning'))  \n",
    "print(s.endswith('learning'))  \n",
    "print(s.endswith('easy')) "
   ]
  },
  {
   "cell_type": "markdown",
   "id": "7bb7c736-7d6a-452e-a171-9ca8db6fa902",
   "metadata": {},
   "source": [
    "# Checking the characters present in a string\n",
    "- Python contains the following methods for this purpose\n",
    "1. isalnum(): Returns True if all characters are alphanumeric( a to z , A to Z ,0 to9 )\n",
    "2. isalpha(): Returns True if all characters are only alphabet symbols(a to z , A to Z)\n",
    "3. isdigit(): Returns True if all characters are digits only( 0 to 9)\n",
    "4. islower(): Returns True if all characters are lower case alphabet symbols\n",
    "5. isupper(): Returns True if all characters are upper case alphabet symbols\n",
    "6. istitle(): Returns True if string is in title case\n",
    "7. isspace(): Returns True if string contains only spaces  "
   ]
  },
  {
   "cell_type": "code",
   "execution_count": 25,
   "id": "805b5f09-11a7-4d30-9275-6d79b0068af0",
   "metadata": {},
   "outputs": [
    {
     "name": "stdout",
     "output_type": "stream",
     "text": [
      "True\n",
      "False\n",
      "True\n",
      "False\n",
      "True\n",
      "True\n",
      "False\n",
      "True\n",
      "True\n",
      "False\n",
      "True\n",
      "True\n"
     ]
    }
   ],
   "source": [
    "print('Saifulla3183'.isalnum())     \n",
    "print('Saifulla3183'.isalpha())     \n",
    "print('Saifulla'.isalpha())        \n",
    "print('Saifulla'.isdigit())        \n",
    "print('223183'.isdigit())        \n",
    "print('abc'.islower())         \n",
    "print('Abc'.islower())         \n",
    "print('abc123'.islower())        \n",
    "print('ABC'.isupper())         \n",
    "print('Saifulla is a Good Boy'.istitle())    \n",
    "print('Learning Python Is Easy'.istitle())    \n",
    "print('         '.isspace())     "
   ]
  },
  {
   "cell_type": "code",
   "execution_count": 31,
   "id": "eff51c97-1f68-464c-a141-81cb5f8dc1aa",
   "metadata": {},
   "outputs": [
    {
     "name": "stdin",
     "output_type": "stream",
     "text": [
      "Enter any character: Saif\n"
     ]
    },
    {
     "name": "stdout",
     "output_type": "stream",
     "text": [
      "Alpha Numeric Character\n",
      "Alphabet character\n",
      "Upper case alphabet character\n"
     ]
    }
   ],
   "source": [
    "s=input(\"Enter any character:\") \n",
    "if s.isalnum(): \n",
    "    print(\"Alpha Numeric Character\") \n",
    "    if s.isalpha(): \n",
    "        print(\"Alphabet character\") \n",
    "        if s.islower(): \n",
    "            print(\"Lower case alphabet character\") \n",
    "        else: \n",
    "            print(\"Upper case alphabet character\")\n",
    "    else: \n",
    "        print(\"it is a digit\") \n",
    "elif s.isspace(): \n",
    "    print(\"It is space character\") \n",
    "else: \n",
    "    print(\"Non Space Special Character\")"
   ]
  },
  {
   "cell_type": "code",
   "execution_count": 32,
   "id": "1e2dcee8-da6a-48ac-9ebf-1e6c712bd60d",
   "metadata": {},
   "outputs": [
    {
     "name": "stdin",
     "output_type": "stream",
     "text": [
      "Enter any character: saif\n"
     ]
    },
    {
     "name": "stdout",
     "output_type": "stream",
     "text": [
      "Alpha Numeric Character\n",
      "Alphabet character\n",
      "Lower case alphabet character\n"
     ]
    }
   ],
   "source": [
    "s=input(\"Enter any character:\") \n",
    "if s.isalnum(): \n",
    "    print(\"Alpha Numeric Character\") \n",
    "    if s.isalpha(): \n",
    "        print(\"Alphabet character\") \n",
    "        if s.islower(): \n",
    "            print(\"Lower case alphabet character\") \n",
    "        else: \n",
    "            print(\"Upper case alphabet character\")\n",
    "    else: \n",
    "        print(\"it is a digit\") \n",
    "elif s.isspace(): \n",
    "    print(\"It is space character\") \n",
    "else: \n",
    "    print(\"Non Space Special Character\")"
   ]
  },
  {
   "cell_type": "code",
   "execution_count": 33,
   "id": "ac665e55-46f7-464d-a4f6-c313813d1e18",
   "metadata": {},
   "outputs": [
    {
     "name": "stdin",
     "output_type": "stream",
     "text": [
      "Enter any character: 5\n"
     ]
    },
    {
     "name": "stdout",
     "output_type": "stream",
     "text": [
      "Alpha Numeric Character\n",
      "it is a digit\n"
     ]
    }
   ],
   "source": [
    "s=input(\"Enter any character:\") \n",
    "if s.isalnum(): \n",
    "    print(\"Alpha Numeric Character\") \n",
    "    if s.isalpha(): \n",
    "        print(\"Alphabet character\") \n",
    "        if s.islower(): \n",
    "            print(\"Lower case alphabet character\") \n",
    "        else: \n",
    "            print(\"Upper case alphabet character\")\n",
    "    else: \n",
    "        print(\"it is a digit\") \n",
    "elif s.isspace(): \n",
    "    print(\"It is space character\") \n",
    "else: \n",
    "    print(\"Non Space Special Character\")"
   ]
  },
  {
   "cell_type": "code",
   "execution_count": 34,
   "id": "8545971a-9683-4330-84cd-1a4c29c347e0",
   "metadata": {},
   "outputs": [
    {
     "name": "stdin",
     "output_type": "stream",
     "text": [
      "Enter any character: @\n"
     ]
    },
    {
     "name": "stdout",
     "output_type": "stream",
     "text": [
      "Non Space Special Character\n"
     ]
    }
   ],
   "source": [
    "s=input(\"Enter any character:\") \n",
    "if s.isalnum(): \n",
    "    print(\"Alpha Numeric Character\") \n",
    "    if s.isalpha(): \n",
    "        print(\"Alphabet character\") \n",
    "        if s.islower(): \n",
    "            print(\"Lower case alphabet character\") \n",
    "        else: \n",
    "            print(\"Upper case alphabet character\")\n",
    "    else: \n",
    "        print(\"it is a digit\") \n",
    "elif s.isspace(): \n",
    "    print(\"It is space character\") \n",
    "else: \n",
    "    print(\"Non Space Special Character\")"
   ]
  },
  {
   "cell_type": "markdown",
   "id": "a4930e23-6539-4729-add7-ce5a19070ae0",
   "metadata": {},
   "source": [
    "# Formatting the Strings\n",
    "String formatting means inserting or embedding variables or values into strings in a structured and readable way"
   ]
  },
  {
   "cell_type": "code",
   "execution_count": 35,
   "id": "55acda73-db88-4738-8742-13c028e63a79",
   "metadata": {},
   "outputs": [
    {
     "name": "stdout",
     "output_type": "stream",
     "text": [
      "My name is Saif and I am 21 years old.\n"
     ]
    }
   ],
   "source": [
    "# Example\n",
    "name = \"Saif\"\n",
    "age = 21\n",
    "print(f\"My name is {name} and I am {age} years old.\")"
   ]
  },
  {
   "cell_type": "code",
   "execution_count": 36,
   "id": "94b0ef11-08b3-41ae-8cb9-103ec0dcce63",
   "metadata": {},
   "outputs": [
    {
     "name": "stdout",
     "output_type": "stream",
     "text": [
      "My name is sohail and I am 24 years old\n"
     ]
    }
   ],
   "source": [
    "# Example\n",
    "name = 'sohail'\n",
    "age = 24\n",
    "print(f\"My name is {name} and I am {age} years old\")"
   ]
  },
  {
   "cell_type": "code",
   "execution_count": null,
   "id": "d44dddff-7175-4c4a-8a16-dd195b9dd267",
   "metadata": {},
   "outputs": [],
   "source": []
  }
 ],
 "metadata": {
  "kernelspec": {
   "display_name": "Python 3 (ipykernel)",
   "language": "python",
   "name": "python3"
  },
  "language_info": {
   "codemirror_mode": {
    "name": "ipython",
    "version": 3
   },
   "file_extension": ".py",
   "mimetype": "text/x-python",
   "name": "python",
   "nbconvert_exporter": "python",
   "pygments_lexer": "ipython3",
   "version": "3.13.4"
  }
 },
 "nbformat": 4,
 "nbformat_minor": 5
}
