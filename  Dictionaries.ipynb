{
 "cells": [
  {
   "cell_type": "markdown",
   "id": "f563d2b6-e721-46e0-98d2-f513bd4b91b7",
   "metadata": {},
   "source": [
    "#  Dictionaries"
   ]
  },
  {
   "cell_type": "code",
   "execution_count": 2,
   "id": "0b5d6abf-ccee-48de-8e5e-a15c59e40f12",
   "metadata": {},
   "outputs": [
    {
     "name": "stdout",
     "output_type": "stream",
     "text": [
      "<class 'dict'>\n",
      "<class 'dict'>\n"
     ]
    }
   ],
   "source": [
    "# Creation of Dictionary objects\n",
    "d = { }\n",
    "print(type(d)) # we have created a new dictionary\n",
    "# other way to create a dictionary\n",
    "d = dict()\n",
    "print(type(d))"
   ]
  },
  {
   "cell_type": "markdown",
   "id": "076148db-f213-4311-9760-a788f78112f1",
   "metadata": {},
   "source": [
    "# We can add entries into a dictionary as follows:\n",
    "# Syntax\n",
    "- d[key] = value"
   ]
  },
  {
   "cell_type": "code",
   "execution_count": 4,
   "id": "e11f2a6f-1bc6-48ff-a6ec-2861e74b0a0a",
   "metadata": {},
   "outputs": [
    {
     "name": "stdout",
     "output_type": "stream",
     "text": [
      "{100: 'Saif', 200: 'Arif', 300: 'shakeer', 'svr': 'Nandyal'}\n"
     ]
    }
   ],
   "source": [
    "d[100]=\"Saif\"\n",
    "d[200]=\"Arif\"\n",
    "d[300]=\"shakeer\"\n",
    "d['svr'] = 'Nandyal'\n",
    "print(d)"
   ]
  },
  {
   "cell_type": "code",
   "execution_count": 6,
   "id": "6d0cd61e-89b7-485a-ae90-1798b7e6962c",
   "metadata": {},
   "outputs": [
    {
     "name": "stdout",
     "output_type": "stream",
     "text": [
      "{100: 'saif', 200: 'shakeer', 300: 'Arif'}\n"
     ]
    }
   ],
   "source": [
    "# other way\n",
    "d={100:'saif' ,200:'shakeer', 300:'Arif'}\n",
    "print(d)"
   ]
  },
  {
   "cell_type": "markdown",
   "id": "649a37e8-91e3-49a3-9045-d273ddd31f85",
   "metadata": {},
   "source": [
    "# Accessing data from the dictionary\n",
    "- here We can access data by using keys\n",
    "- If the specified key is not available then we will get KeyError"
   ]
  },
  {
   "cell_type": "code",
   "execution_count": 7,
   "id": "f8b79262-8350-4cd8-a16c-3ec06d7fc76c",
   "metadata": {},
   "outputs": [
    {
     "name": "stdout",
     "output_type": "stream",
     "text": [
      "banana\n"
     ]
    }
   ],
   "source": [
    "# Example\n",
    "d={'a':'apple' ,'b':'banana', 'c':'cat'}\n",
    "print(d['b'])"
   ]
  },
  {
   "cell_type": "code",
   "execution_count": 9,
   "id": "402a82d6-56b6-4477-ae08-4c3c7ecbbabc",
   "metadata": {},
   "outputs": [
    {
     "ename": "KeyError",
     "evalue": "'s'",
     "output_type": "error",
     "traceback": [
      "\u001b[31m---------------------------------------------------------------------------\u001b[39m",
      "\u001b[31mKeyError\u001b[39m                                  Traceback (most recent call last)",
      "\u001b[36mCell\u001b[39m\u001b[36m \u001b[39m\u001b[32mIn[9]\u001b[39m\u001b[32m, line 3\u001b[39m\n\u001b[32m      1\u001b[39m \u001b[38;5;66;03m# Same Example with other keys values\u001b[39;00m\n\u001b[32m      2\u001b[39m d={\u001b[33m'\u001b[39m\u001b[33ma\u001b[39m\u001b[33m'\u001b[39m:\u001b[33m'\u001b[39m\u001b[33mapple\u001b[39m\u001b[33m'\u001b[39m ,\u001b[33m'\u001b[39m\u001b[33mb\u001b[39m\u001b[33m'\u001b[39m:\u001b[33m'\u001b[39m\u001b[33mbanana\u001b[39m\u001b[33m'\u001b[39m, \u001b[33m'\u001b[39m\u001b[33mc\u001b[39m\u001b[33m'\u001b[39m:\u001b[33m'\u001b[39m\u001b[33mcat\u001b[39m\u001b[33m'\u001b[39m}\n\u001b[32m----> \u001b[39m\u001b[32m3\u001b[39m \u001b[38;5;28mprint\u001b[39m(\u001b[43md\u001b[49m\u001b[43m[\u001b[49m\u001b[33;43m'\u001b[39;49m\u001b[33;43ms\u001b[39;49m\u001b[33;43m'\u001b[39;49m\u001b[43m]\u001b[49m)\n",
      "\u001b[31mKeyError\u001b[39m: 's'"
     ]
    }
   ],
   "source": [
    "# Same Example with other keys values\n",
    "d={'a':'apple' ,'b':'banana', 'c':'cat'}\n",
    "print(d['s'])"
   ]
  },
  {
   "cell_type": "markdown",
   "id": "539270dd-62df-4c78-a387-f71864ff15cc",
   "metadata": {},
   "source": [
    "# Updating the Dictionary\n",
    "# Syntax:\n",
    " d[key]=value\n",
    "- If the key is not available then a new entry will be added to the dictionary with the specified key-value pair.\n",
    "- If the key is already available then old value will be replaced with new value"
   ]
  },
  {
   "cell_type": "code",
   "execution_count": 10,
   "id": "452348ac-efc4-419e-9d96-26cd104b549f",
   "metadata": {},
   "outputs": [
    {
     "name": "stdout",
     "output_type": "stream",
     "text": [
      "{100: 'saif', 200: 'sohail', 300: 'sadik'}\n",
      "{100: 'saif', 200: 'sohail', 300: 'sadik', 400: 'kaif'}\n",
      "{100: 'sohel', 200: 'sohail', 300: 'sadik', 400: 'kaif'}\n"
     ]
    }
   ],
   "source": [
    "# Example\n",
    "d={100:\"saif\",200:\"sohail\",300:\"sadik\"}\n",
    "print(d)\n",
    "d[400]=\"kaif\"\n",
    "print(d)\n",
    "d[100]=\"sohel\"\n",
    "print(d)"
   ]
  },
  {
   "cell_type": "markdown",
   "id": "7567e427-e04d-4569-8031-4e30e3e011b4",
   "metadata": {},
   "source": [
    "# Deleting the elements from Dictionary\n",
    "# Syntax :\n",
    " del d[key]\n",
    "- It deletes entry associated with the specified key.\n",
    "- If the key is not available then we will get KeyError."
   ]
  },
  {
   "cell_type": "code",
   "execution_count": 12,
   "id": "9ae61515-10dd-438d-82f2-8e284c7cd3af",
   "metadata": {},
   "outputs": [
    {
     "name": "stdout",
     "output_type": "stream",
     "text": [
      "{100: 'Saif', 200: 'sadik', 300: 'sohail'}\n",
      "{200: 'sadik', 300: 'sohail'}\n"
     ]
    },
    {
     "ename": "KeyError",
     "evalue": "400",
     "output_type": "error",
     "traceback": [
      "\u001b[31m---------------------------------------------------------------------------\u001b[39m",
      "\u001b[31mKeyError\u001b[39m                                  Traceback (most recent call last)",
      "\u001b[36mCell\u001b[39m\u001b[36m \u001b[39m\u001b[32mIn[12]\u001b[39m\u001b[32m, line 6\u001b[39m\n\u001b[32m      4\u001b[39m \u001b[38;5;28;01mdel\u001b[39;00m d[\u001b[32m100\u001b[39m]\n\u001b[32m      5\u001b[39m \u001b[38;5;28mprint\u001b[39m(d)\n\u001b[32m----> \u001b[39m\u001b[32m6\u001b[39m \u001b[38;5;28;01mdel\u001b[39;00m \u001b[43md\u001b[49m\u001b[43m[\u001b[49m\u001b[32;43m400\u001b[39;49m\u001b[43m]\u001b[49m\n",
      "\u001b[31mKeyError\u001b[39m: 400"
     ]
    }
   ],
   "source": [
    "# Example\n",
    "d={100:\"Saif\",200:\"sadik\",300:\"sohail\"}\n",
    "print(d)\n",
    "del d[100]\n",
    "print(d)\n",
    "del d[400]"
   ]
  },
  {
   "cell_type": "markdown",
   "id": "9dcb6c90-c518-4842-adf0-416bda5ebdcf",
   "metadata": {},
   "source": [
    "# In deleting the elements of dictionary\n",
    "- We have 2 more funtions\n",
    "- clear()\n",
    "- This function is used to remove all entries from the dictionary.\n",
    "- del()\n",
    "- To delete total dictionary, we can use del command\n",
    "- Now we cannot access dictionary d"
   ]
  },
  {
   "cell_type": "code",
   "execution_count": 14,
   "id": "7bb0f29b-a18c-4aeb-b7ae-16f25e1ca511",
   "metadata": {},
   "outputs": [
    {
     "name": "stdout",
     "output_type": "stream",
     "text": [
      "{100: 'saif', 200: 'sadik', 300: 'rafi'}\n",
      "{}\n"
     ]
    }
   ],
   "source": [
    "# Example for clear() function\n",
    "d={100:\"saif\",200:\"sadik\",300:\"rafi\"}\n",
    "print(d)\n",
    "d.clear()\n",
    "print(d)"
   ]
  },
  {
   "cell_type": "markdown",
   "id": "3919b1c3-13fd-46d2-9461-521c85c13d36",
   "metadata": {},
   "source": [
    "# Important functions/methods of Dictionary\n",
    "1. dict()\n",
    "2. len()\n",
    "3. clear() \n",
    "4. get()\n",
    "5. pop()\n",
    "6. popitem() \n",
    "7. keys()\n",
    "8. values()\n",
    "9. items()\n",
    "10. copy()\n",
    "11. setdefault()\n",
    "12. update()"
   ]
  },
  {
   "cell_type": "markdown",
   "id": "12c6e82e-7d40-41fe-8618-e1eec816de56",
   "metadata": {},
   "source": [
    "# 1. dict():\n",
    "- This function is used to create a dictionary.\n",
    "- Compulsory internally we need to take tuple only is acceptable. If you take list it gives the above specified error\n",
    "- If the key values are available in the form of tuple, then all those tuple values can be converted into dictionary by using 'dict()' function."
   ]
  },
  {
   "cell_type": "code",
   "execution_count": 15,
   "id": "bf56c2a9-0e41-417e-8ad5-d2c2f40b14dd",
   "metadata": {},
   "outputs": [
    {
     "name": "stdout",
     "output_type": "stream",
     "text": [
      "{}\n",
      "{100: 'saif', 200: 'saha'}\n",
      "{100: 'saif', 200: 'saha', 300: 'sri'}\n",
      "{100: 'saif', 200: 'saha', 300: 'sri'}\n",
      "{300: 'sri', 100: 'saif', 200: 'saha'}\n"
     ]
    },
    {
     "ename": "TypeError",
     "evalue": "unhashable type: 'list'",
     "output_type": "error",
     "traceback": [
      "\u001b[31m---------------------------------------------------------------------------\u001b[39m",
      "\u001b[31mTypeError\u001b[39m                                 Traceback (most recent call last)",
      "\u001b[36mCell\u001b[39m\u001b[36m \u001b[39m\u001b[32mIn[15]\u001b[39m\u001b[32m, line 13\u001b[39m\n\u001b[32m     11\u001b[39m d=\u001b[38;5;28mdict\u001b[39m({(\u001b[32m100\u001b[39m,\u001b[33m\"\u001b[39m\u001b[33msaif\u001b[39m\u001b[33m\"\u001b[39m),(\u001b[32m200\u001b[39m,\u001b[33m\"\u001b[39m\u001b[33msaha\u001b[39m\u001b[33m\"\u001b[39m),(\u001b[32m300\u001b[39m,\u001b[33m\"\u001b[39m\u001b[33msri\u001b[39m\u001b[33m\"\u001b[39m)})\n\u001b[32m     12\u001b[39m \u001b[38;5;28mprint\u001b[39m(d)\n\u001b[32m---> \u001b[39m\u001b[32m13\u001b[39m d=\u001b[38;5;28mdict\u001b[39m({[\u001b[32m100\u001b[39m,\u001b[33m\"\u001b[39m\u001b[33msaif\u001b[39m\u001b[33m\"\u001b[39m],[\u001b[32m200\u001b[39m,\u001b[33m\"\u001b[39m\u001b[33msaha\u001b[39m\u001b[33m\"\u001b[39m],[\u001b[32m300\u001b[39m,\u001b[33m\"\u001b[39m\u001b[33msri\u001b[39m\u001b[33m\"\u001b[39m]})\n\u001b[32m     14\u001b[39m \u001b[38;5;28mprint\u001b[39m(d)\n",
      "\u001b[31mTypeError\u001b[39m: unhashable type: 'list'"
     ]
    }
   ],
   "source": [
    "# Example for dict()\n",
    "d=dict()\n",
    "print(d)\n",
    "d=dict({100:\"saif\",200:\"saha\"})\n",
    "print(d)\n",
    "d=dict([(100,\"saif\"),(200,\"saha\"),(300,\"sri\")])\n",
    "print(d)\n",
    "d=dict(((100,\"saif\"),(200,\"saha\"),(300,\"sri\")))\n",
    "print(d)\n",
    "d=dict({(100,\"saif\"),(200,\"saha\"),(300,\"sri\")})\n",
    "print(d)\n",
    "d=dict({[100,\"saif\"],[200,\"saha\"],[300,\"sri\"]})\n",
    "print(d)"
   ]
  },
  {
   "cell_type": "markdown",
   "id": "1d54f372-af15-47a4-8769-0abcd5240bb6",
   "metadata": {},
   "source": [
    "# 2. len(): \n",
    "- Returns the number of items in the dictionary"
   ]
  },
  {
   "cell_type": "code",
   "execution_count": 16,
   "id": "0611f9b7-158b-4687-8610-2c471deef334",
   "metadata": {},
   "outputs": [
    {
     "name": "stdout",
     "output_type": "stream",
     "text": [
      "{100: 'saif', 200: 'sadik'}\n",
      "2\n"
     ]
    }
   ],
   "source": [
    "# Example for len()\n",
    "d=dict({100:\"saif\",200:\"sadik\"})\n",
    "print(d)\n",
    "print(len(d))"
   ]
  },
  {
   "cell_type": "markdown",
   "id": "bb244f7d-111d-450f-98fc-914d373b7936",
   "metadata": {},
   "source": [
    "# 3. clear():\n",
    "- To remove all elements from the dictionary."
   ]
  },
  {
   "cell_type": "code",
   "execution_count": 17,
   "id": "fde11278-4643-4aa9-b026-8aadf0334291",
   "metadata": {},
   "outputs": [
    {
     "name": "stdout",
     "output_type": "stream",
     "text": [
      "{100: 'saif', 200: 'sadik'}\n",
      "{}\n"
     ]
    }
   ],
   "source": [
    "# Example for clear()\n",
    "d=dict({100:\"saif\",200:\"sadik\"})\n",
    "print(d)\n",
    "d.clear()\n",
    "print(d)"
   ]
  },
  {
   "cell_type": "markdown",
   "id": "dc181555-f5bd-4b70-aee8-77acd1d213d3",
   "metadata": {},
   "source": [
    "# 4. get():\n",
    "There are 2 forms to get() function\n",
    "-  d.get(key)\n",
    "-  d.get(key,defaultvalue)\n",
    "1. d.get(key)\n",
    "- If the key is available then returns the corresponding value otherwise returns None. It wont raise any error.\n",
    "2. d.get(key,defaultvalue)\n",
    "- If the key is available then returns the corresponding value otherwise returns default value"
   ]
  },
  {
   "cell_type": "code",
   "execution_count": 20,
   "id": "b5550ce7-4c56-4018-a901-e0d03bdbc516",
   "metadata": {},
   "outputs": [
    {
     "name": "stdout",
     "output_type": "stream",
     "text": [
      "sohail\n",
      "None\n",
      "sohail\n",
      "ravan\n",
      "{100: 'sohail', 200: 'saha'}\n"
     ]
    }
   ],
   "source": [
    "# Example for d.get(key)\n",
    "d=dict({100:\"sohail\",200:\"saha\"})\n",
    "print(d.get(100))\n",
    "\n",
    "#another example\n",
    "d=dict({100:\"sohail\",200:\"saha\"})  # here it creates dictionary with specified elements\n",
    "print(d.get(500))\n",
    "\n",
    "# Example for d.get(key,defaultvalue)\n",
    "d=dict({100:\"sohail\",200:\"saha\"})\n",
    "print(d.get(100,'ravan'))\n",
    "\n",
    "# another example\n",
    "d=dict({100:\"sohail\",200:\"saha\"})\n",
    "print(d.get(500,'ravan'))\n",
    "print(d)"
   ]
  },
  {
   "cell_type": "markdown",
   "id": "8ba4559d-f163-4313-b78a-a79148e4613e",
   "metadata": {},
   "source": [
    "# 5. pop():\n",
    "# Syntax :\n",
    " d.pop(key)\n",
    "- It removes the entry associated with the specified key and returns the corresponding value.\n",
    "- If the specified key is not available then we will get KeyError"
   ]
  },
  {
   "cell_type": "code",
   "execution_count": 21,
   "id": "e48dec8b-6289-4a6e-9713-51b763fb3499",
   "metadata": {},
   "outputs": [
    {
     "name": "stdout",
     "output_type": "stream",
     "text": [
      "{100: 'karthi', 200: 'saha', 300: 'sri'}\n",
      "karthi\n",
      "{200: 'saha', 300: 'sri'}\n"
     ]
    },
    {
     "ename": "KeyError",
     "evalue": "400",
     "output_type": "error",
     "traceback": [
      "\u001b[31m---------------------------------------------------------------------------\u001b[39m",
      "\u001b[31mKeyError\u001b[39m                                  Traceback (most recent call last)",
      "\u001b[36mCell\u001b[39m\u001b[36m \u001b[39m\u001b[32mIn[21]\u001b[39m\u001b[32m, line 6\u001b[39m\n\u001b[32m      4\u001b[39m \u001b[38;5;28mprint\u001b[39m(d.pop(\u001b[32m100\u001b[39m))\n\u001b[32m      5\u001b[39m \u001b[38;5;28mprint\u001b[39m(d)\n\u001b[32m----> \u001b[39m\u001b[32m6\u001b[39m \u001b[38;5;28mprint\u001b[39m(\u001b[43md\u001b[49m\u001b[43m.\u001b[49m\u001b[43mpop\u001b[49m\u001b[43m(\u001b[49m\u001b[32;43m400\u001b[39;49m\u001b[43m)\u001b[49m)\n",
      "\u001b[31mKeyError\u001b[39m: 400"
     ]
    }
   ],
   "source": [
    "# Example \n",
    "d={100:\"karthi\",200:\"saha\",300:\"sri\"}\n",
    "print(d)\n",
    "print(d.pop(100))\n",
    "print(d)\n",
    "print(d.pop(400)) # error occurs here because 400 is out of range as given input"
   ]
  },
  {
   "cell_type": "markdown",
   "id": "982afc54-52e7-4371-94d8-488456a8034e",
   "metadata": {},
   "source": [
    "# 6. popitem()\n",
    " The popitem() removes an arbitrary item(key-value) from the dictionary and returns it"
   ]
  },
  {
   "cell_type": "code",
   "execution_count": 1,
   "id": "6c8cf3df-0b2e-413e-bbf4-239864d32723",
   "metadata": {},
   "outputs": [
    {
     "name": "stdout",
     "output_type": "stream",
     "text": [
      "{100: 'Sadik', 200: 'suhan', 300: 'rafiq'}\n",
      "(300, 'rafiq')\n",
      "(200, 'suhan')\n",
      "{100: 'Sadik'}\n"
     ]
    },
    {
     "ename": "KeyError",
     "evalue": "400",
     "output_type": "error",
     "traceback": [
      "\u001b[31m---------------------------------------------------------------------------\u001b[39m",
      "\u001b[31mKeyError\u001b[39m                                  Traceback (most recent call last)",
      "\u001b[36mCell\u001b[39m\u001b[36m \u001b[39m\u001b[32mIn[1]\u001b[39m\u001b[32m, line 7\u001b[39m\n\u001b[32m      5\u001b[39m \u001b[38;5;28mprint\u001b[39m(d.popitem())\n\u001b[32m      6\u001b[39m \u001b[38;5;28mprint\u001b[39m(d)\n\u001b[32m----> \u001b[39m\u001b[32m7\u001b[39m \u001b[38;5;28mprint\u001b[39m(\u001b[43md\u001b[49m\u001b[43m.\u001b[49m\u001b[43mpop\u001b[49m\u001b[43m(\u001b[49m\u001b[32;43m400\u001b[39;49m\u001b[43m)\u001b[49m)\n",
      "\u001b[31mKeyError\u001b[39m: 400"
     ]
    }
   ],
   "source": [
    "# Example\n",
    "d={100:\"Sadik\",200:\"suhan\",300:\"rafiq\"}\n",
    "print(d)\n",
    "print(d.popitem())\n",
    "print(d.popitem())\n",
    "print(d)\n",
    "print(d.pop(400)) # It prints error because the 400 input is out of range"
   ]
  },
  {
   "cell_type": "markdown",
   "id": "fbf39fbd-bf0c-4529-a50c-1a3fb2f3ae63",
   "metadata": {},
   "source": [
    "# 7. keys():\n",
    " It returns all keys associated with dictionary."
   ]
  },
  {
   "cell_type": "code",
   "execution_count": 5,
   "id": "0d5722a5-49f7-4533-a395-ed76ddc00303",
   "metadata": {},
   "outputs": [
    {
     "name": "stdout",
     "output_type": "stream",
     "text": [
      "dict_keys([100, 200, 300])\n",
      "100\n",
      "200\n",
      "300\n"
     ]
    }
   ],
   "source": [
    "# Example\n",
    "d={100:\"rafi\",200:\"saif\",300:\"sohail\"}\n",
    "print(d.keys())\n",
    "for key in d.keys():\n",
    "    print(key)"
   ]
  },
  {
   "cell_type": "markdown",
   "id": "04dcf51d-eb47-4df4-bbb6-3cbeb5a06b77",
   "metadata": {},
   "source": [
    "# 8. values():\n",
    " It returns all values associated with the dictionary"
   ]
  },
  {
   "cell_type": "code",
   "execution_count": 4,
   "id": "2ed526d7-1ccf-4a80-934f-d712405c37a8",
   "metadata": {},
   "outputs": [
    {
     "name": "stdout",
     "output_type": "stream",
     "text": [
      "dict_values(['saif', 'sohail', 'dada'])\n",
      "saif\n",
      "sohail\n",
      "dada\n"
     ]
    }
   ],
   "source": [
    "# Example\n",
    "d={100:\"saif\",200:\"sohail\",300:\"dada\"}\n",
    "print(d.values())\n",
    "for key in d.values():\n",
    "    print(key)"
   ]
  },
  {
   "cell_type": "markdown",
   "id": "d03c3769-d2af-4955-9f9d-e66e411704da",
   "metadata": {},
   "source": [
    "# 9. items():\n",
    " It returns list of tuples representing key-value pairs like as shown below.\n",
    "- [(k,v),(k,v),(k,v)]"
   ]
  },
  {
   "cell_type": "code",
   "execution_count": 9,
   "id": "d0106d1d-d8ee-49d2-9ba6-aceee1f7f28a",
   "metadata": {},
   "outputs": [
    {
     "name": "stdout",
     "output_type": "stream",
     "text": [
      "dict_items([(100, 'Saif'), (200, 'Sohail'), (300, 'rafi')])\n",
      "100 -- Saif\n",
      "200 -- Sohail\n",
      "300 -- rafi\n"
     ]
    }
   ],
   "source": [
    "# Example\n",
    "d={100:\"Saif\",200:\"Sohail\",300:\"rafi\"}\n",
    "list = d.items()\n",
    "print(list)\n",
    "# Example 2\n",
    "d={100:\"Saif\",200:\"Sohail\",300:\"rafi\"}\n",
    "for k,v in d.items():\n",
    "    print(k,\"--\",v)"
   ]
  },
  {
   "cell_type": "markdown",
   "id": "3e8c59c3-81a7-46d8-a122-e40dc3dddb1d",
   "metadata": {},
   "source": [
    "# 10. copy():\n",
    " This method is used to create exactly duplicate dictionary(cloned copy)"
   ]
  },
  {
   "cell_type": "code",
   "execution_count": 10,
   "id": "ea5c7f69-47c5-4317-9cc5-c85cdb44b93e",
   "metadata": {},
   "outputs": [
    {
     "name": "stdout",
     "output_type": "stream",
     "text": [
      "{100: 'soo', 200: 'koo', 300: 'roo'}\n",
      "{100: 'soo', 200: 'koo', 300: 'roo'}\n"
     ]
    }
   ],
   "source": [
    "# Example\n",
    "d={100:\"soo\",200:\"koo\",300:\"roo\"}\n",
    "d1=d.copy()\n",
    "print(d1)\n",
    "print(d)"
   ]
  },
  {
   "cell_type": "markdown",
   "id": "d5fa20aa-b947-4050-bf42-3257c7a22d0b",
   "metadata": {},
   "source": [
    "# 11.setdefault()\n",
    "# Syntax :\n",
    " d.setdefault(k,v)\n",
    "- If the key is already available then this function returns the corresponding value\n",
    "-  If the key is not available then the specified key-value will be added as new item to the dictionary"
   ]
  },
  {
   "cell_type": "code",
   "execution_count": 12,
   "id": "84f1afa1-c8c6-4770-8921-34f121e9322e",
   "metadata": {},
   "outputs": [
    {
     "name": "stdout",
     "output_type": "stream",
     "text": [
      "sourav\n",
      "{100: 'rafi', 200: 'sadik', 300: 'sameer', 400: 'sourav'}\n",
      "rafi\n",
      "{100: 'rafi', 200: 'sadik', 300: 'sameer', 400: 'sourav'}\n"
     ]
    }
   ],
   "source": [
    "# Example\n",
    "d={100:\"rafi\",200:\"sadik\",300:\"sameer\"}\n",
    "print(d.setdefault(400,\"sourav\"))\n",
    "print(d)\n",
    "print(d.setdefault(100,\"sachin\"))\n",
    "print(d)"
   ]
  },
  {
   "cell_type": "markdown",
   "id": "e08a3184-bf42-44f3-8ab5-a6facbb3a1d0",
   "metadata": {},
   "source": [
    "# 12. update():\n",
    "# Syntax :\n",
    " d.update(x)\n",
    "- All items present in the dictionary x will be added to dictionary d"
   ]
  },
  {
   "cell_type": "code",
   "execution_count": 14,
   "id": "bbe85419-e454-4b49-ac5c-f15754e86d78",
   "metadata": {},
   "outputs": [
    {
     "name": "stdout",
     "output_type": "stream",
     "text": [
      "{100: 'saifulla', 200: 'basha', 300: 'saif', 'a': 'apple', 'b': 'banana'}\n"
     ]
    }
   ],
   "source": [
    "# Example\n",
    "d={100:\"saifulla\",200:\"basha\",300:\"saif\"}\n",
    "d1 ={'a':'apple', 'b':'banana'}\n",
    "d.update(d1)\n",
    "print(d)"
   ]
  },
  {
   "cell_type": "markdown",
   "id": "91aad573-eac4-4364-92d7-f7887ea5e81f",
   "metadata": {},
   "source": [
    "# Dictionary Comprehension\n",
    " Comprehension concept applicable for dictionaries also"
   ]
  },
  {
   "cell_type": "code",
   "execution_count": 15,
   "id": "585e43a7-96e4-4591-bb43-0856512b140c",
   "metadata": {},
   "outputs": [
    {
     "name": "stdout",
     "output_type": "stream",
     "text": [
      "{1: 1, 2: 4, 3: 9, 4: 16, 5: 25}\n",
      "{1: 2, 2: 4, 3: 6, 4: 8, 5: 10}\n"
     ]
    }
   ],
   "source": [
    "# Example\n",
    "squares={x:x*x for x in range(1,6)}\n",
    "print(squares)\n",
    "doubles={x:2*x for x in range(1,6)}\n",
    "print(doubles)"
   ]
  },
  {
   "cell_type": "code",
   "execution_count": null,
   "id": "b0ecf902-602d-43e0-89c9-8ec2a0fda1ad",
   "metadata": {},
   "outputs": [],
   "source": []
  }
 ],
 "metadata": {
  "kernelspec": {
   "display_name": "Python 3 (ipykernel)",
   "language": "python",
   "name": "python3"
  },
  "language_info": {
   "codemirror_mode": {
    "name": "ipython",
    "version": 3
   },
   "file_extension": ".py",
   "mimetype": "text/x-python",
   "name": "python",
   "nbconvert_exporter": "python",
   "pygments_lexer": "ipython3",
   "version": "3.13.4"
  }
 },
 "nbformat": 4,
 "nbformat_minor": 5
}
