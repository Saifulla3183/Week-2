{
 "cells": [
  {
   "cell_type": "markdown",
   "id": "c0bce958-db64-4f06-b9b0-11a1fe25e1f9",
   "metadata": {},
   "source": [
    "# Strings\n",
    "# what is String?\n",
    "Any sequence of characters within either single quotes or double quotes is considered as a Sring\n",
    "# Syntax for String\n",
    "s = 'saif' # It have single quotes\n",
    "s = \"saif\" # It have double quotes\n",
    "Generally we will get a doubt that how print multiple lines of a code in a String?\n",
    "Here we use Triple quotes for multiple printing lines\n",
    "# Example\n",
    "s = '''saif\n",
    "sohail\n",
    "sadik\n",
    "rafi'''\n",
    "print(s)\n",
    "#Then we will get output as\n",
    "saif\n",
    "sohail\n",
    "sadik\n",
    "rafi"
   ]
  },
  {
   "cell_type": "code",
   "execution_count": 2,
   "id": "69e012a3-55c8-4a01-b45d-7b0f0fa45218",
   "metadata": {},
   "outputs": [
    {
     "name": "stdout",
     "output_type": "stream",
     "text": [
      "saif\n",
      "sohail\n",
      "sadik\n",
      "rafi\n"
     ]
    }
   ],
   "source": [
    "# Example\n",
    "s = '''saif\n",
    "sohail\n",
    "sadik\n",
    "rafi'''\n",
    "print(s)"
   ]
  },
  {
   "cell_type": "markdown",
   "id": "92f7dadd-aaa3-46ff-b0c0-b9ad5087b2dc",
   "metadata": {},
   "source": [
    "# How to access characters of a string?\n",
    "There are 2 ways:\n",
    "1. By using index\n",
    "2. By using slice operator\n",
    "# By using index \n",
    "- here python supports both positive and negative indexing\n",
    "- positive index means from left to right(forward direction)\n",
    "- negative index means from right to left(backward direction)"
   ]
  },
  {
   "cell_type": "code",
   "execution_count": 7,
   "id": "91e15e5a-da78-43dc-a3fe-c10e3807f6f3",
   "metadata": {},
   "outputs": [
    {
     "name": "stdout",
     "output_type": "stream",
     "text": [
      "s\n",
      "a\n",
      "l\n",
      "f\n"
     ]
    },
    {
     "ename": "IndexError",
     "evalue": "string index out of range",
     "output_type": "error",
     "traceback": [
      "\u001b[31m---------------------------------------------------------------------------\u001b[39m",
      "\u001b[31mIndexError\u001b[39m                                Traceback (most recent call last)",
      "\u001b[36mCell\u001b[39m\u001b[36m \u001b[39m\u001b[32mIn[7]\u001b[39m\u001b[32m, line 7\u001b[39m\n\u001b[32m      5\u001b[39m \u001b[38;5;28mprint\u001b[39m(s[-\u001b[32m3\u001b[39m])\n\u001b[32m      6\u001b[39m \u001b[38;5;28mprint\u001b[39m(s[\u001b[32m3\u001b[39m])\n\u001b[32m----> \u001b[39m\u001b[32m7\u001b[39m \u001b[38;5;28mprint\u001b[39m(\u001b[43ms\u001b[49m\u001b[43m[\u001b[49m\u001b[32;43m20\u001b[39;49m\u001b[43m]\u001b[49m) \u001b[38;5;66;03m#it prints out of range\u001b[39;00m\n",
      "\u001b[31mIndexError\u001b[39m: string index out of range"
     ]
    }
   ],
   "source": [
    "# Example\n",
    "s = 'saifulla'\n",
    "print(s[0])\n",
    "print(s[-1])\n",
    "print(s[-3])\n",
    "print(s[3])\n",
    "print(s[20]) #it prints out of range"
   ]
  },
  {
   "cell_type": "markdown",
   "id": "b3710bcf-22a0-4c22-b2be-89240ded15af",
   "metadata": {},
   "source": [
    "# By using slice operator\n",
    "- Slice means cutting a mango into pieces and each piece is a slice\n",
    "- Similarly, The string will cut into pieces by slicing\n",
    "# Syntax for Slice Operator\n",
    "string_name[beginindex:endindex:stepindex]\n",
    "- Here,\n",
    "- beginindex: from where we have to consider slice(substring)\n",
    "- endindex: we have to terminate the slice(substring) at endindex-1\n",
    "- stepindex: incremented/decremented value"
   ]
  },
  {
   "cell_type": "code",
   "execution_count": 15,
   "id": "d72c2652-64f1-4e1b-a588-2930acf405b6",
   "metadata": {},
   "outputs": [
    {
     "name": "stdout",
     "output_type": "stream",
     "text": [
      "sohail\n",
      "saifulla\n",
      "saifullasohail\n",
      "siuls\n",
      "siulshi\n",
      "oalfa\n"
     ]
    }
   ],
   "source": [
    "#Example\n",
    "s = 'saifullasohail'\n",
    "print(s[8:]) #printing from 8th index value to endindex\n",
    "print(s[:8]) #printing from beginning value to 8-1 index\n",
    "print(s[:])  #printing from 0th index to endindex \n",
    "print(s[0:9:2]) #printing from 0th index to 9-1 index with incremented by 2\n",
    "print(s[0: :2]) #printing from 0th indexx to endindex with incremented by 2\n",
    "print(s[9:0:-2]) #printing from 9th index to 0th index with decremented by 2"
   ]
  },
  {
   "cell_type": "markdown",
   "id": "75ab65d2-4ed0-4380-9aa0-d42de9f91a10",
   "metadata": {},
   "source": [
    "# Mathematical Operators for strings\n",
    "In python there are 2 types are there\n",
    "1. Operator for concatenation (+)\n",
    "2. Operator for repetition (*)\n",
    "# The two types\n",
    "1. Operator for concatenation (+)\n",
    "    To use + operator for strings, compulsory both arguments should be str type only\n",
    "2. Operator for repetition (*)\n",
    "    To use * operator for strings, compulsory one argument should be str and another argument should be int type only"
   ]
  },
  {
   "cell_type": "code",
   "execution_count": 16,
   "id": "15bfdf12-8e44-49ce-9eb2-a1dacebc6f18",
   "metadata": {},
   "outputs": [
    {
     "name": "stdout",
     "output_type": "stream",
     "text": [
      "SaifSohail\n",
      "SaifSaifSaifSaif\n"
     ]
    }
   ],
   "source": [
    "# Example\n",
    "print(\"Saif\"+\"Sohail\")\n",
    "print(\"Saif\"*4)"
   ]
  },
  {
   "cell_type": "code",
   "execution_count": 19,
   "id": "a34d54ee-8235-46d9-9193-494a19fe36c0",
   "metadata": {},
   "outputs": [
    {
     "name": "stdin",
     "output_type": "stream",
     "text": [
      "Enter a string: saifulla\n"
     ]
    },
    {
     "name": "stdout",
     "output_type": "stream",
     "text": [
      "Forward direction\n",
      "s a i f u l l a \n",
      "Backward direction\n",
      "a l l u f i a s "
     ]
    }
   ],
   "source": [
    "# we can use slicing concepts like these also\n",
    "s = input(\"Enter a string:\")\n",
    "print(\"Forward direction\")\n",
    "for x in s:\n",
    "    print(x,end = ' ')\n",
    "print()\n",
    "print(\"Backward direction\")\n",
    "for x in s[::-1]:\n",
    "    print(x,end = ' ')"
   ]
  },
  {
   "cell_type": "code",
   "execution_count": 22,
   "id": "d1e7cbbc-1401-4012-b2d8-3dd19aaa50f4",
   "metadata": {},
   "outputs": [
    {
     "name": "stdin",
     "output_type": "stream",
     "text": [
      "Enter a string: roshan\n"
     ]
    },
    {
     "name": "stdout",
     "output_type": "stream",
     "text": [
      "Forward direction\n",
      "roshan\n",
      "Backward direction\n",
      "nahsor\n"
     ]
    }
   ],
   "source": [
    "# we can use another way to print forward & backward of strings\n",
    "s = input(\"Enter a string:\")\n",
    "print(\"Forward direction\")\n",
    "print(s[::1])\n",
    "print(\"Backward direction\")\n",
    "print(s[::-1])"
   ]
  },
  {
   "cell_type": "markdown",
   "id": "0b5a940b-7969-40e5-8a9f-49ecdba173c9",
   "metadata": {},
   "source": [
    "# Membership Operators\n",
    "- here we can check whether the character or string is the member of another string or not by using following membership operators\n",
    "- we have two types\n",
    "  1. in\n",
    "  2. not in"
   ]
  },
  {
   "cell_type": "code",
   "execution_count": 24,
   "id": "869efdf8-3758-40cb-9e5b-a4aa1b17a54d",
   "metadata": {},
   "outputs": [
    {
     "name": "stdout",
     "output_type": "stream",
     "text": [
      "True\n",
      "False\n"
     ]
    }
   ],
   "source": [
    "# Example for in\n",
    "s = 'roshan'\n",
    "print('r' in s)\n",
    "print('f' in s)"
   ]
  },
  {
   "cell_type": "code",
   "execution_count": 25,
   "id": "c2e3d68e-7cc2-45b2-a94f-c9dbdf5019cc",
   "metadata": {},
   "outputs": [
    {
     "name": "stdout",
     "output_type": "stream",
     "text": [
      "False\n",
      "True\n"
     ]
    }
   ],
   "source": [
    "# Example for not\n",
    "s = 'roshan'\n",
    "print('r' not in s)\n",
    "print('b' not in s)"
   ]
  },
  {
   "cell_type": "code",
   "execution_count": 26,
   "id": "6c6d446c-0fe5-4599-ae0c-848320d0e28b",
   "metadata": {},
   "outputs": [
    {
     "name": "stdin",
     "output_type": "stream",
     "text": [
      "Enter main string: saifulla\n",
      "Enter sub string: saif\n"
     ]
    },
    {
     "name": "stdout",
     "output_type": "stream",
     "text": [
      "saif is found in main string\n"
     ]
    }
   ],
   "source": [
    "# Example\n",
    "s=input(\"Enter main string:\")\n",
    "subs=input(\"Enter sub string:\")\n",
    "if subs in s:\n",
    "    print(subs,\"is found in main string\")\n",
    "else:\n",
    "    print(subs,\"is not found in main string\")"
   ]
  },
  {
   "cell_type": "markdown",
   "id": "21194835-fe97-4eb6-9737-5c65107e9529",
   "metadata": {},
   "source": [
    "# Comparison of Strings\n",
    "- here we can use comparison operators (<,<=,>,>=) and equality operators(==,!=) for strings\n",
    "- and Comparison will be performed based on alphabetical order"
   ]
  },
  {
   "cell_type": "code",
   "execution_count": 28,
   "id": "cf74a3f1-a72a-4ba4-9d1d-38dc8e97665d",
   "metadata": {},
   "outputs": [
    {
     "name": "stdin",
     "output_type": "stream",
     "text": [
      "Enter first string sohail\n",
      "Enter second string saifulla\n"
     ]
    },
    {
     "name": "stdout",
     "output_type": "stream",
     "text": [
      "second string is less than first string\n"
     ]
    }
   ],
   "source": [
    "# Example\n",
    "s1 = input(\"Enter first string\")\n",
    "s2 = input(\"Enter second string\")\n",
    "if s1 == s2:\n",
    "    print(\"both strings are equal\")\n",
    "elif s1 < s2:\n",
    "    print(\"first string is less than second string\")\n",
    "else:\n",
    "    print(\"second string is less than first string\")\n"
   ]
  },
  {
   "cell_type": "markdown",
   "id": "fb6c4760-1e0d-4e4f-9931-68861facb6ac",
   "metadata": {},
   "source": [
    "# Removing spaces from the string\n",
    "- To remove the blank spaces present at either beginning and end of the string, we can use the following 3 methods\n",
    "1. rstrip()\n",
    "   here to remove blank spaces present at end of the string (i.e., right hand side)\n",
    "2. lstrip()\n",
    "   To remove blank spaces present at the beginning of the string (i.e.,LHS)\n",
    "3. strip()\n",
    "   To remove spaces both sides  "
   ]
  },
  {
   "cell_type": "code",
   "execution_count": 29,
   "id": "6e93470a-97ef-4d54-a51a-55e939577581",
   "metadata": {},
   "outputs": [
    {
     "name": "stdin",
     "output_type": "stream",
     "text": [
      "Enter your city Name: Hyderabad\n"
     ]
    },
    {
     "name": "stdout",
     "output_type": "stream",
     "text": [
      "Hello Hyderbadi..Adab\n"
     ]
    }
   ],
   "source": [
    "# Example\n",
    "city=input(\"Enter your city Name:\")\n",
    "scity=city.strip()\n",
    "if scity=='Hyderabad':\n",
    "    print(\"Hello Hyderbadi..Adab\")\n",
    "elif scity=='Chennai':\n",
    "    print(\"Hello Madrasi...Vanakkam\")\n",
    "elif scity==\"Bangalore\":\n",
    "    print(\"Hello Kannadiga...Shubhodaya\")\n",
    "else:\n",
    "    print(\"your entered city is invalid\")"
   ]
  },
  {
   "cell_type": "code",
   "execution_count": 30,
   "id": "d4af76c6-1dff-4c8f-be97-081892929ea4",
   "metadata": {},
   "outputs": [
    {
     "name": "stdin",
     "output_type": "stream",
     "text": [
      "Enter your city Name: Nandyal\n"
     ]
    },
    {
     "name": "stdout",
     "output_type": "stream",
     "text": [
      "your entered city is invalid\n"
     ]
    }
   ],
   "source": [
    "# Consider the same example \n",
    "city=input(\"Enter your city Name:\")\n",
    "scity=city.strip()\n",
    "if scity=='Hyderabad':\n",
    "    print(\"Hello Hyderbadi..Adab\")\n",
    "elif scity=='Chennai':\n",
    "    print(\"Hello Madrasi...Vanakkam\")\n",
    "elif scity==\"Bangalore\":\n",
    "    print(\"Hello Kannadiga...Shubhodaya\")\n",
    "else:\n",
    "    print(\"your entered city is invalid\")"
   ]
  },
  {
   "cell_type": "markdown",
   "id": "5038d024-a704-4d76-9b23-c106a70af6be",
   "metadata": {},
   "source": [
    "# Finding Substrings\n",
    "To find whether the substring is available in the given string or not\n",
    "- we have 4 methods\n",
    "# For forward direction\n",
    "1. find()\n",
    "2. index()\n",
    "# For backward direction\n",
    "3. rfind()\n",
    "4. rindex()"
   ]
  },
  {
   "cell_type": "markdown",
   "id": "de8c2b3c-ff2c-4c6c-90e2-fedeb2691ad4",
   "metadata": {},
   "source": [
    "# 1. find() :\n",
    "# Syntax:\n",
    "  s.find(substring) (Without Boundary)\n",
    "- Returns index of first occurrence of the given substring. If it is not available then we will get-1."
   ]
  },
  {
   "cell_type": "code",
   "execution_count": 31,
   "id": "2df12815-6e93-430d-8ed4-bff81fa26aff",
   "metadata": {},
   "outputs": [
    {
     "name": "stdout",
     "output_type": "stream",
     "text": [
      "9\n",
      "-1\n",
      "3\n",
      "21\n"
     ]
    }
   ],
   "source": [
    "# Example\n",
    "s=\"Learning Python is very easy\"\n",
    "print(s.find(\"Python\"))\n",
    "print(s.find(\"Java\"))\n",
    "print(s.find(\"r\"))\n",
    "print(s.rfind(\"r\"))"
   ]
  },
  {
   "cell_type": "code",
   "execution_count": 32,
   "id": "b498baaa-12d1-402f-889a-c9bb4cdad7fd",
   "metadata": {},
   "outputs": [
    {
     "name": "stdout",
     "output_type": "stream",
     "text": [
      "1\n",
      "9\n",
      "-1\n"
     ]
    }
   ],
   "source": [
    "#  We can also specify the boundaries to search\n",
    "# Syntax:\n",
    " #s.find(substring, begin, end) (With Boundary)\n",
    " #It will always search from begin index to end-1 index\n",
    "\n",
    "# Example\n",
    "s=\"karthikeyasahasra\"\n",
    "print(s.find('a'))\n",
    "print(s.find('a',7,15))\n",
    "print(s.find('z',7,15))"
   ]
  },
  {
   "cell_type": "markdown",
   "id": "c4354ed0-753c-47f9-a77d-d6979d02c697",
   "metadata": {},
   "source": [
    "# 2. index() method:\n",
    "- index() method is exactly same as find() method except that if the specified substring is not available then we will get ValueError."
   ]
  },
  {
   "cell_type": "code",
   "execution_count": 33,
   "id": "d6114b2d-d02a-49a3-b140-57aae2dc2aad",
   "metadata": {},
   "outputs": [
    {
     "ename": "ValueError",
     "evalue": "substring not found",
     "output_type": "error",
     "traceback": [
      "\u001b[31m---------------------------------------------------------------------------\u001b[39m",
      "\u001b[31mValueError\u001b[39m                                Traceback (most recent call last)",
      "\u001b[36mCell\u001b[39m\u001b[36m \u001b[39m\u001b[32mIn[33]\u001b[39m\u001b[32m, line 3\u001b[39m\n\u001b[32m      1\u001b[39m \u001b[38;5;66;03m# Example\u001b[39;00m\n\u001b[32m      2\u001b[39m s = \u001b[33m'\u001b[39m\u001b[33mabbaaaaaaaaaaaaaaaaabbababa\u001b[39m\u001b[33m'\u001b[39m\n\u001b[32m----> \u001b[39m\u001b[32m3\u001b[39m \u001b[38;5;28mprint\u001b[39m(\u001b[43ms\u001b[49m\u001b[43m.\u001b[49m\u001b[43mindex\u001b[49m\u001b[43m(\u001b[49m\u001b[33;43m'\u001b[39;49m\u001b[33;43mbb\u001b[39;49m\u001b[33;43m'\u001b[39;49m\u001b[43m,\u001b[49m\u001b[32;43m2\u001b[39;49m\u001b[43m,\u001b[49m\u001b[32;43m15\u001b[39;49m\u001b[43m)\u001b[49m)   \u001b[38;5;66;03m#ValueError: substring not found\u001b[39;00m\n",
      "\u001b[31mValueError\u001b[39m: substring not found"
     ]
    }
   ],
   "source": [
    "# Example\n",
    "s = 'abbaaaaaaaaaaaaaaaaabbababa'\n",
    "print(s.index('bb',2,15))   #ValueError: substring not found"
   ]
  },
  {
   "cell_type": "code",
   "execution_count": 34,
   "id": "907e3094-4284-4202-9e36-b8073a44699e",
   "metadata": {},
   "outputs": [
    {
     "name": "stdout",
     "output_type": "stream",
     "text": [
      "1\n",
      "20\n"
     ]
    }
   ],
   "source": [
    "s = 'abbaaaaaaaaaaaaaaaaabbababa'\n",
    "print(s.index('bb'))\n",
    "s = 'abbaaaaaaaaaaaaaaaaabbababa'\n",
    "print(s.rindex('bb')) #used rindex()"
   ]
  },
  {
   "cell_type": "markdown",
   "id": "9ef28bdc-9acf-4430-a5c7-89c30c42307d",
   "metadata": {},
   "source": [
    "# Counting substring in the given String\n",
    "- here we can find the number of occurrences of substring present in the given string by using count() method.\n",
    "1. s.count(substring)\n",
    "   - It will search through out the string\n",
    "2. s.count(substring, begin, end)\n",
    "   - It will search from begin index to end-1 index"
   ]
  },
  {
   "cell_type": "code",
   "execution_count": 35,
   "id": "ea258e83-79e8-4fac-b4b5-3c1b488f16d5",
   "metadata": {},
   "outputs": [
    {
     "name": "stdout",
     "output_type": "stream",
     "text": [
      "6\n",
      "4\n",
      "2\n"
     ]
    }
   ],
   "source": [
    "# Eaxmple\n",
    "s=\"abcabcabcabcadda\"\n",
    "print(s.count('a'))\n",
    "print(s.count('ab'))\n",
    "print(s.count('a',3,7))"
   ]
  },
  {
   "cell_type": "code",
   "execution_count": 36,
   "id": "36da56ea-8ba4-4e49-8f05-b65901d0f84d",
   "metadata": {},
   "outputs": [
    {
     "name": "stdout",
     "output_type": "stream",
     "text": [
      "1\n"
     ]
    }
   ],
   "source": [
    "s = 'abcdcdckk'\n",
    "print(s.count('cdc'))"
   ]
  },
  {
   "cell_type": "code",
   "execution_count": null,
   "id": "d9ebb0f2-0538-4570-b51f-730ae947cb8b",
   "metadata": {},
   "outputs": [],
   "source": []
  }
 ],
 "metadata": {
  "kernelspec": {
   "display_name": "Python 3 (ipykernel)",
   "language": "python",
   "name": "python3"
  },
  "language_info": {
   "codemirror_mode": {
    "name": "ipython",
    "version": 3
   },
   "file_extension": ".py",
   "mimetype": "text/x-python",
   "name": "python",
   "nbconvert_exporter": "python",
   "pygments_lexer": "ipython3",
   "version": "3.13.4"
  }
 },
 "nbformat": 4,
 "nbformat_minor": 5
}
