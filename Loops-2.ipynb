{
 "cells": [
  {
   "cell_type": "markdown",
   "id": "e1e3906f-05f5-454c-9b63-116db63f9ab0",
   "metadata": {},
   "source": [
    "# Iterative Statements \n",
    "If we want print a statement multiple times then we have to use Iterative Statements\n",
    "There are two types of statements are there\n",
    "1. for loop\n",
    "2. while loop\n",
    "# for loop\n",
    "If we want to execute some action for every element present in some sequence then we should go with for loop\n",
    "# Syntax of for loop\n",
    "for x in sequence:\n",
    "    body\n",
    "where 'sequence' can be string or any collection\n",
    "Body will be executed for every element present in the sequence\n"
   ]
  },
  {
   "cell_type": "code",
   "execution_count": 6,
   "id": "386ecb85-4d80-45d1-9a4c-03cc08918f3c",
   "metadata": {},
   "outputs": [
    {
     "name": "stdout",
     "output_type": "stream",
     "text": [
      "Saif"
     ]
    }
   ],
   "source": [
    "#Example \n",
    "s = \"Saif\"\n",
    "for x in s:\n",
    "    print(x,end = '')"
   ]
  },
  {
   "cell_type": "code",
   "execution_count": 8,
   "id": "996e6f0b-f526-4435-a731-d4b36e41452b",
   "metadata": {},
   "outputs": [
    {
     "name": "stdin",
     "output_type": "stream",
     "text": [
      "Enter some string SAIFULLA\n"
     ]
    },
    {
     "name": "stdout",
     "output_type": "stream",
     "text": [
      "The character present at  0 index is: S\n",
      "The character present at  1 index is: A\n",
      "The character present at  2 index is: I\n",
      "The character present at  3 index is: F\n",
      "The character present at  4 index is: U\n",
      "The character present at  5 index is: L\n",
      "The character present at  6 index is: L\n",
      "The character present at  7 index is: A\n"
     ]
    }
   ],
   "source": [
    "s = input(\"Enter some string\")\n",
    "i=0\n",
    "for x in s:\n",
    "    print(\"The character present at \",i,\"index is:\",x)\n",
    "    i = i + 1"
   ]
  },
  {
   "cell_type": "code",
   "execution_count": 10,
   "id": "2f81a2f0-8e41-4b53-806c-8553d14d0b87",
   "metadata": {},
   "outputs": [
    {
     "name": "stdout",
     "output_type": "stream",
     "text": [
      "SAIF\n",
      "SAIF\n",
      "SAIF\n",
      "SAIF\n",
      "SAIF\n",
      "SAIF\n",
      "SAIF\n",
      "SAIF\n",
      "SAIF\n",
      "SAIF\n"
     ]
    }
   ],
   "source": [
    "s = 'SAIF'\n",
    "for i in range(10):\n",
    "    print(s)"
   ]
  },
  {
   "cell_type": "code",
   "execution_count": 11,
   "id": "5fa3def5-0eed-4508-b8b4-9200b3dacfc8",
   "metadata": {},
   "outputs": [
    {
     "name": "stdout",
     "output_type": "stream",
     "text": [
      "1\n",
      "3\n",
      "5\n",
      "7\n",
      "9\n",
      "11\n",
      "13\n",
      "15\n",
      "17\n",
      "19\n"
     ]
    }
   ],
   "source": [
    "#printing odd numbers\n",
    "for i in range(21):\n",
    "    if(i%2!=0):\n",
    "        print(i)"
   ]
  },
  {
   "cell_type": "markdown",
   "id": "c7daa9f4-4fb1-42c1-b665-06a145d27e3d",
   "metadata": {},
   "source": [
    "# while loop\n",
    "if we want to execute a group of statements iteratively until some condition false, then we should go for while loop\n",
    "# Syntax\n",
    "while condition:\n",
    "    body"
   ]
  },
  {
   "cell_type": "code",
   "execution_count": 13,
   "id": "5ccb250e-d64c-4581-8c63-855035f405fb",
   "metadata": {},
   "outputs": [
    {
     "name": "stdout",
     "output_type": "stream",
     "text": [
      "1\n",
      "2\n",
      "3\n",
      "4\n",
      "5\n",
      "6\n",
      "7\n",
      "8\n",
      "9\n",
      "10\n"
     ]
    }
   ],
   "source": [
    "s = 1\n",
    "while s <= 10:\n",
    "    print(s)\n",
    "    s = s+1"
   ]
  },
  {
   "cell_type": "code",
   "execution_count": 15,
   "id": "c947ed6a-fa2a-4a1d-845a-b4c9219d4e9c",
   "metadata": {},
   "outputs": [
    {
     "name": "stdin",
     "output_type": "stream",
     "text": [
      "Enter your name Sohail\n",
      "Enter your name Sadik\n",
      "Enter your name Saif\n"
     ]
    },
    {
     "name": "stdout",
     "output_type": "stream",
     "text": [
      "Thanks for your confirmation\n"
     ]
    }
   ],
   "source": [
    "#Best example for while loop\n",
    "name = ''\n",
    "while name!='Saif':\n",
    "    name = input(\"Enter your name\")\n",
    "print(\"Thanks for your confirmation\")"
   ]
  },
  {
   "cell_type": "code",
   "execution_count": 17,
   "id": "98f308dd-5980-42b2-aa76-48e03ae91e9d",
   "metadata": {},
   "outputs": [
    {
     "name": "stdout",
     "output_type": "stream",
     "text": [
      "hello\n",
      "hello\n",
      "hello\n",
      "hello\n",
      "hello\n",
      "hello\n"
     ]
    }
   ],
   "source": [
    "for i in range(3):\n",
    "    for j in range(2):  #Doubt 3 + 2\n",
    "        print(\"hello\") "
   ]
  },
  {
   "cell_type": "code",
   "execution_count": 18,
   "id": "e43c0b98-5568-4933-acfa-b4ab6351ff58",
   "metadata": {},
   "outputs": [
    {
     "name": "stdout",
     "output_type": "stream",
     "text": [
      "i = 0  j = 0\n",
      "i = 0  j = 1\n",
      "i = 0  j = 2\n",
      "i = 0  j = 3\n",
      "i = 1  j = 0\n",
      "i = 1  j = 1\n",
      "i = 1  j = 2\n",
      "i = 1  j = 3\n",
      "i = 2  j = 0\n",
      "i = 2  j = 1\n",
      "i = 2  j = 2\n",
      "i = 2  j = 3\n",
      "i = 3  j = 0\n",
      "i = 3  j = 1\n",
      "i = 3  j = 2\n",
      "i = 3  j = 3\n"
     ]
    }
   ],
   "source": [
    "for i in range(4):\n",
    "    for j in range(4):                           # Doubt logic\n",
    "        print('i = {}  j = {}'.format(i,j))"
   ]
  },
  {
   "cell_type": "code",
   "execution_count": 27,
   "id": "9a5c3ca4-e0ae-4841-af81-5a5008ea01e5",
   "metadata": {},
   "outputs": [
    {
     "name": "stdin",
     "output_type": "stream",
     "text": [
      "Enter number of rows: 4\n"
     ]
    },
    {
     "name": "stdout",
     "output_type": "stream",
     "text": [
      "* \n",
      "* * \n",
      "* * * \n",
      "* * * * \n"
     ]
    }
   ],
   "source": [
    "n = int(input(\"Enter number of rows:\"))\n",
    "for i in range(1,n+1):\n",
    "    for j in range(1,i+1):              #Doubts j?\n",
    "        print(\"*\",end = \" \")\n",
    "    print()"
   ]
  },
  {
   "cell_type": "code",
   "execution_count": 31,
   "id": "59be69df-f985-43f7-a10e-65a5d5e90d34",
   "metadata": {},
   "outputs": [
    {
     "name": "stdin",
     "output_type": "stream",
     "text": [
      "Enter number of rows: 5\n"
     ]
    },
    {
     "name": "stdout",
     "output_type": "stream",
     "text": [
      "    * \n",
      "   * * \n",
      "  * * * \n",
      " * * * * \n",
      "* * * * * \n"
     ]
    }
   ],
   "source": [
    "n = int(input(\"Enter number of rows:\"))\n",
    "for i in range(1,n+1):                         #Doubt  \"* \"\n",
    "    print(\" \" * (n-i),end=\"\")\n",
    "    print(\"* \"*i)"
   ]
  },
  {
   "cell_type": "code",
   "execution_count": null,
   "id": "843df011-9f8c-498d-967e-33903bcc83eb",
   "metadata": {},
   "outputs": [],
   "source": []
  }
 ],
 "metadata": {
  "kernelspec": {
   "display_name": "Python 3 (ipykernel)",
   "language": "python",
   "name": "python3"
  },
  "language_info": {
   "codemirror_mode": {
    "name": "ipython",
    "version": 3
   },
   "file_extension": ".py",
   "mimetype": "text/x-python",
   "name": "python",
   "nbconvert_exporter": "python",
   "pygments_lexer": "ipython3",
   "version": "3.13.4"
  }
 },
 "nbformat": 4,
 "nbformat_minor": 5
}
