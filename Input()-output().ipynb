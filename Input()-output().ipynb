{
 "cells": [
  {
   "cell_type": "markdown",
   "id": "18a4307b-200f-4918-a8e7-57be8497b305",
   "metadata": {},
   "source": [
    "# raw_input()\n",
    "raw_input() is a built-in function in Python 2 used to read input from the user as a string, regardless of what the user types.\n",
    "- It is used to safely take user input without evaluating it as code\n",
    "- It always returns a string\n",
    "# input()\n",
    "- input() evaluates the input as Python code.\n",
    "- This can be unsafe if the user enters harmful code.\n",
    "- It does not evaluate the input.\n",
    "- It always returns the input as a string."
   ]
  },
  {
   "cell_type": "code",
   "execution_count": 2,
   "id": "d2140092-1010-4a6d-938a-65c1871a726d",
   "metadata": {},
   "outputs": [
    {
     "ename": "NameError",
     "evalue": "name 'raw_input' is not defined",
     "output_type": "error",
     "traceback": [
      "\u001b[31m---------------------------------------------------------------------------\u001b[39m",
      "\u001b[31mNameError\u001b[39m                                 Traceback (most recent call last)",
      "\u001b[36mCell\u001b[39m\u001b[36m \u001b[39m\u001b[32mIn[2]\u001b[39m\u001b[32m, line 2\u001b[39m\n\u001b[32m      1\u001b[39m \u001b[38;5;66;03m# Example for raw_input()\u001b[39;00m\n\u001b[32m----> \u001b[39m\u001b[32m2\u001b[39m name = \u001b[43mraw_input\u001b[49m(\u001b[33m\"\u001b[39m\u001b[33mEnter your name: \u001b[39m\u001b[33m\"\u001b[39m)\n\u001b[32m      3\u001b[39m \u001b[38;5;28mprint\u001b[39m(\u001b[33m'\u001b[39m\u001b[33mHello\u001b[39m\u001b[33m'\u001b[39m,name)\n",
      "\u001b[31mNameError\u001b[39m: name 'raw_input' is not defined"
     ]
    }
   ],
   "source": [
    "# Example for raw_input()\n",
    "name = raw_input(\"Enter your name: \")\n",
    "print('Hello',name) # It cannot give output because these is python 3\n",
    "#In python 3 raw_input() data will not give the output"
   ]
  },
  {
   "cell_type": "code",
   "execution_count": 3,
   "id": "ccf61a76-2ba2-4f2b-8b53-2001d34da7e2",
   "metadata": {},
   "outputs": [
    {
     "name": "stdin",
     "output_type": "stream",
     "text": [
      "Enter a number:  6\n"
     ]
    },
    {
     "name": "stdout",
     "output_type": "stream",
     "text": [
      "<class 'str'>\n"
     ]
    }
   ],
   "source": [
    "#Example for input()\n",
    "x = input(\"Enter a number: \")\n",
    "print(type(x))"
   ]
  },
  {
   "cell_type": "code",
   "execution_count": 5,
   "id": "a082fe8d-d15b-47e9-a9fb-df1f2090c8be",
   "metadata": {},
   "outputs": [
    {
     "name": "stdin",
     "output_type": "stream",
     "text": [
      "Enter your name:  saif\n"
     ]
    },
    {
     "name": "stdout",
     "output_type": "stream",
     "text": [
      "Hello saif\n"
     ]
    }
   ],
   "source": [
    "#If we take same example of python 2 code in python 3\n",
    "name = input(\"Enter your name: \")\n",
    "print('Hello',name)"
   ]
  },
  {
   "cell_type": "code",
   "execution_count": 6,
   "id": "b0404cc3-a664-4991-be25-990baef7730a",
   "metadata": {},
   "outputs": [
    {
     "name": "stdin",
     "output_type": "stream",
     "text": [
      "Enter your age:  21\n"
     ]
    },
    {
     "name": "stdout",
     "output_type": "stream",
     "text": [
      "You will be 22 next year.\n"
     ]
    }
   ],
   "source": [
    "#Another example \n",
    "age = int(input(\"Enter your age: \"))\n",
    "print(\"You will be\", age + 1, \"next year.\")"
   ]
  },
  {
   "cell_type": "code",
   "execution_count": 9,
   "id": "aef9d25c-f6b1-4e0b-908f-3a1f3a9b557d",
   "metadata": {},
   "outputs": [
    {
     "name": "stdin",
     "output_type": "stream",
     "text": [
      "Enter Employee No: 3183\n",
      "Enter Employee Name: Shaik Saifulla\n",
      "Enter Employee Salary: 65000\n",
      "Enter Employee Address: hyd\n",
      "Employee Married ?[True|False]: True\n"
     ]
    },
    {
     "name": "stdout",
     "output_type": "stream",
     "text": [
      "Please Confirm your provided Information\n",
      "Employee No : 3183\n",
      "Employee Name : Shaik Saifulla\n",
      "Employee Salary : 65000.0\n",
      "Employee Address : hyd\n",
      "Employee Married ? : True\n"
     ]
    }
   ],
   "source": [
    "# Write a program to read Employee data from the keyboard and print that data.\n",
    "eno=int(input(\"Enter Employee No:\"))\n",
    "ename=input(\"Enter Employee Name:\")\n",
    "esal=float(input(\"Enter Employee Salary:\"))\n",
    "eaddr=input(\"Enter Employee Address:\")\n",
    "married=bool(input(\"Employee Married ?[True|False]:\"))\n",
    "print(\"Please Confirm your provided Information\")\n",
    "print(\"Employee No :\",eno)\n",
    "print(\"Employee Name :\",ename)\n",
    "print(\"Employee Salary :\",esal)\n",
    "print(\"Employee Address :\",eaddr)\n",
    "print(\"Employee Married ? :\",married)"
   ]
  },
  {
   "cell_type": "code",
   "execution_count": 10,
   "id": "18fb0334-55ef-43d4-ac5e-f417f616c992",
   "metadata": {},
   "outputs": [
    {
     "name": "stdin",
     "output_type": "stream",
     "text": [
      "Enter Employee No: 3183\n",
      "Enter Employee Name: Shaik Saifulla\n",
      "Enter Employee Salary: 65000\n",
      "Enter Employee Address: Hyd\n",
      "Employee Married ?[True|False]: False\n"
     ]
    },
    {
     "name": "stdout",
     "output_type": "stream",
     "text": [
      "Please Confirm your provided Information\n",
      "Employee No : 3183\n",
      "Employee Name : Shaik Saifulla\n",
      "Employee Salary : 65000.0\n",
      "Employee Address : Hyd\n",
      "Employee Married ? : False\n"
     ]
    }
   ],
   "source": [
    "#Example using eval instead of bool\n",
    "eno=int(input(\"Enter Employee No:\"))\n",
    "ename=input(\"Enter Employee Name:\")\n",
    "esal=float(input(\"Enter Employee Salary:\"))\n",
    "eaddr=input(\"Enter Employee Address:\")\n",
    "married=eval(input(\"Employee Married ?[True|False]:\")) #here it cannot give wrong output\n",
    "print(\"Please Confirm your provided Information\")\n",
    "print(\"Employee No :\",eno)\n",
    "print(\"Employee Name :\",ename)\n",
    "print(\"Employee Salary :\",esal)\n",
    "print(\"Employee Address :\",eaddr)\n",
    "print(\"Employee Married ? :\",married)"
   ]
  },
  {
   "cell_type": "code",
   "execution_count": 11,
   "id": "a6627c9f-2992-4244-9fa1-120013eb6c22",
   "metadata": {},
   "outputs": [
    {
     "name": "stdin",
     "output_type": "stream",
     "text": [
      "Enter 2 numbers : 20 30\n"
     ]
    },
    {
     "name": "stdout",
     "output_type": "stream",
     "text": [
      "The Sum is : 50\n"
     ]
    }
   ],
   "source": [
    "# Reading Multiple values from the keybroad in single line\n",
    "a,b= [int(x) for x in input(\"Enter 2 numbers :\").split()]\n",
    "#We can call it is List comprehension\n",
    "print(\"The Sum is :\", a + b)\n",
    "#Why we used .split()?\n",
    "# By using .spilt() it can divide the values from the input statement"
   ]
  },
  {
   "cell_type": "markdown",
   "id": "07107137-2bf3-4489-931b-9048a34c157b",
   "metadata": {},
   "source": [
    "# Output Statements: 'print()' function\n",
    "- The print() statement is used to display the output like(variables, numbers, text, results,etc..) on the screen\n",
    "- There multiple forms are there related to print() function"
   ]
  },
  {
   "cell_type": "code",
   "execution_count": 12,
   "id": "68471231-35e7-427b-9543-308624586e0e",
   "metadata": {},
   "outputs": [
    {
     "name": "stdout",
     "output_type": "stream",
     "text": [
      "saif\n",
      "\n",
      "sohail\n"
     ]
    }
   ],
   "source": [
    "# Printing without argument\n",
    "print(\"saif\")\n",
    "print()  # It gives us space # If we do not use it can print without any line gape\n",
    "print(\"sohail\")"
   ]
  },
  {
   "cell_type": "code",
   "execution_count": 14,
   "id": "ca39be95-de8a-41d3-b763-6ab350855ae9",
   "metadata": {},
   "outputs": [
    {
     "name": "stdout",
     "output_type": "stream",
     "text": [
      "SAIFULLA\n",
      "SaifSaifSaifSaifSaif\n",
      "saifsaif\n"
     ]
    }
   ],
   "source": [
    "# Printing with a string argument\n",
    "print(\"SAIFULLA\")\n",
    "# we can use operators also like ( '*' , '+' )\n",
    "print(\"Saif\"*5)\n",
    "print(\"saif\"+\"saif\")"
   ]
  },
  {
   "cell_type": "code",
   "execution_count": 15,
   "id": "4dfecf90-2cb7-425d-8ef8-7683c01e9f3f",
   "metadata": {},
   "outputs": [
    {
     "name": "stdout",
     "output_type": "stream",
     "text": [
      "The values are: 10 20 30\n"
     ]
    }
   ],
   "source": [
    "#printing variable number of arguments\n",
    "a,b,c = 10,20,30\n",
    "print(\"The values are:\",a,b,c)"
   ]
  },
  {
   "cell_type": "code",
   "execution_count": 16,
   "id": "e9e44767-396f-4bfb-a3fe-490f52bac195",
   "metadata": {},
   "outputs": [
    {
     "name": "stdout",
     "output_type": "stream",
     "text": [
      "10 20 30\n",
      "10,20,30\n",
      "10:20:30\n",
      "10-20-30\n"
     ]
    }
   ],
   "source": [
    "# Seperator attribute\n",
    "# Separator is used as 'sep'\n",
    "# By using of this we can seperate the values in output\n",
    "a,b,c=10,20,30\n",
    "print(a,b,c) \n",
    "print(a,b,c,sep=',') \n",
    "print(a,b,c,sep=':') \n",
    "print(a,b,c,sep='-') "
   ]
  },
  {
   "cell_type": "code",
   "execution_count": 18,
   "id": "6a67e271-2bd4-4ca8-821a-970dfcd437d4",
   "metadata": {},
   "outputs": [
    {
     "name": "stdout",
     "output_type": "stream",
     "text": [
      "saif sohail sadik "
     ]
    }
   ],
   "source": [
    "# end attribute\n",
    "# If we want output in the same line then we have to use end attribute\n",
    "print(\"saif\",end=' ')\n",
    "print(\"sohail\",end=' ')\n",
    "print(\"sadik\",end=' ')"
   ]
  },
  {
   "cell_type": "markdown",
   "id": "343628ca-ca82-45e5-b8d2-4850a4fb2dc9",
   "metadata": {},
   "source": [
    "#  Replacement Operator ({ })\n",
    "Replacement operator is used to replace a value to a structure\n"
   ]
  },
  {
   "cell_type": "code",
   "execution_count": 19,
   "id": "103d01e3-5dca-4f20-ab03-b417feccf435",
   "metadata": {},
   "outputs": [
    {
     "name": "stdout",
     "output_type": "stream",
     "text": [
      "a = 10,b = 20,c = 30,d = 40\n"
     ]
    }
   ],
   "source": [
    "#Example \n",
    "a,b,c,d = 10,20,30,40\n",
    "print('a = {},b = {},c = {},d = {}'.format(a,b,c,d))"
   ]
  },
  {
   "cell_type": "code",
   "execution_count": null,
   "id": "5916341e-5b0f-446e-a687-b6df7046b850",
   "metadata": {},
   "outputs": [],
   "source": []
  }
 ],
 "metadata": {
  "kernelspec": {
   "display_name": "Python 3 (ipykernel)",
   "language": "python",
   "name": "python3"
  },
  "language_info": {
   "codemirror_mode": {
    "name": "ipython",
    "version": 3
   },
   "file_extension": ".py",
   "mimetype": "text/x-python",
   "name": "python",
   "nbconvert_exporter": "python",
   "pygments_lexer": "ipython3",
   "version": "3.13.4"
  }
 },
 "nbformat": 4,
 "nbformat_minor": 5
}
