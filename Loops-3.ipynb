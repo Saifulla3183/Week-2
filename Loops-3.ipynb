{
 "cells": [
  {
   "cell_type": "markdown",
   "id": "9c9e60e9-a5b3-42e5-b016-5b018c0b11a8",
   "metadata": {},
   "source": [
    "# Transfer Statements\n",
    "These statement helps to control  from one to another part of the code to another\n",
    "Like jumping out of loops,skipping iterations, or stoping execution altogether\n",
    "There are 3 main types are there \n",
    "1. break\n",
    "2. continue\n",
    "3. pass"
   ]
  },
  {
   "cell_type": "code",
   "execution_count": 1,
   "id": "69e0ad57-5f71-471d-9f67-91bc737a709b",
   "metadata": {},
   "outputs": [
    {
     "name": "stdout",
     "output_type": "stream",
     "text": [
      "0\n",
      "1\n",
      "2\n",
      "3\n",
      "4\n",
      "5\n",
      "Processing is enough..plz break\n"
     ]
    }
   ],
   "source": [
    "#  break\n",
    "# We can use break stmt inside the loops to break loop execution based on some condition\n",
    "#Example\n",
    "for i in range(10):\n",
    "    if i == 6:\n",
    "        print(\"Processing is enough..plz break\")\n",
    "        break  #here loop will break here\n",
    "    print(i)"
   ]
  },
  {
   "cell_type": "code",
   "execution_count": 2,
   "id": "303c1b17-7aa1-407e-9ea7-4fda43efaa09",
   "metadata": {},
   "outputs": [
    {
     "name": "stdout",
     "output_type": "stream",
     "text": [
      "1\n",
      "3\n",
      "5\n",
      "7\n",
      "9\n"
     ]
    }
   ],
   "source": [
    "# continue \n",
    "# we can use continue stmt to skip current iteration and continue next iteration\n",
    "for i in range(10):\n",
    "    if i%2 == 0:\n",
    "        continue\n",
    "    print(i)"
   ]
  },
  {
   "cell_type": "code",
   "execution_count": 4,
   "id": "83a1c1e2-41bc-4642-b45c-4f6fef940890",
   "metadata": {},
   "outputs": [
    {
     "name": "stdout",
     "output_type": "stream",
     "text": [
      "10\n",
      "20\n",
      "300\n",
      "450\n",
      "We cannot process this item : 500\n",
      "We cannot process this item : 550\n",
      "400\n",
      "We cannot process this item : 700\n"
     ]
    }
   ],
   "source": [
    "card = [10,20,300,450,500,550,400,700]\n",
    "for item in card:\n",
    "    if item >= 500:\n",
    "        print(\"We cannot process this item :\",item)\n",
    "        continue\n",
    "    print(item)"
   ]
  },
  {
   "cell_type": "markdown",
   "id": "e653c366-200a-46d3-bcb6-4063981c59d9",
   "metadata": {},
   "source": [
    "# pass statement\n",
    "In python pass is a keyword\n",
    "-It is empty stmt\n",
    "-It is null stmt\n",
    "-It won't do anything"
   ]
  },
  {
   "cell_type": "code",
   "execution_count": 5,
   "id": "8fab4977-aeb5-4a00-aa7d-f7ae35da3415",
   "metadata": {},
   "outputs": [],
   "source": [
    "#Suppose\n",
    "#    if True:  # it is invalid \n",
    "#    then if we keep pass stmt then\n",
    "if True:\n",
    "    pass  #It is valid\n"
   ]
  },
  {
   "cell_type": "code",
   "execution_count": null,
   "id": "d950782c-73b1-4c30-8dec-0a5c48d73139",
   "metadata": {},
   "outputs": [],
   "source": []
  }
 ],
 "metadata": {
  "kernelspec": {
   "display_name": "Python 3 (ipykernel)",
   "language": "python",
   "name": "python3"
  },
  "language_info": {
   "codemirror_mode": {
    "name": "ipython",
    "version": 3
   },
   "file_extension": ".py",
   "mimetype": "text/x-python",
   "name": "python",
   "nbconvert_exporter": "python",
   "pygments_lexer": "ipython3",
   "version": "3.13.4"
  }
 },
 "nbformat": 4,
 "nbformat_minor": 5
}
